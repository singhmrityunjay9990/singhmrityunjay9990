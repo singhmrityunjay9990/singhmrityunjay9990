{
  "nbformat": 4,
  "nbformat_minor": 0,
  "metadata": {
    "colab": {
      "provenance": [],
      "authorship_tag": "ABX9TyPp5GFrH2PagmHl+rVB6Z88",
      "include_colab_link": true
    },
    "kernelspec": {
      "name": "python3",
      "display_name": "Python 3"
    },
    "language_info": {
      "name": "python"
    }
  },
  "cells": [
    {
      "cell_type": "markdown",
      "metadata": {
        "id": "view-in-github",
        "colab_type": "text"
      },
      "source": [
        "<a href=\"https://colab.research.google.com/github/singhmrityunjay9990/singhmrityunjay9990/blob/main/love_calculator.ipynb\" target=\"_parent\"><img src=\"https://colab.research.google.com/assets/colab-badge.svg\" alt=\"Open In Colab\"/></a>"
      ]
    },
    {
      "cell_type": "code",
      "execution_count": 1,
      "metadata": {
        "colab": {
          "base_uri": "https://localhost:8080/"
        },
        "id": "zDVJX5CkK1i8",
        "outputId": "a86da19e-e331-4e84-89c2-7067e00ea722"
      },
      "outputs": [
        {
          "output_type": "stream",
          "name": "stdout",
          "text": [
            "Welcome to the Love Calculator!\n",
            "What is your name? \n",
            "siddharth manhotra\n",
            "What is their name? \n",
            "kiara advani\n",
            "Your score is 52\n"
          ]
        }
      ],
      "source": [
        "print(\"Welcome to the Love Calculator!\")\n",
        "name1 = input(\"What is your name? \\n\")\n",
        "name2 = input(\"What is their name? \\n\")\n",
        "\n",
        "combined_string = name1 + name2\n",
        "lower_case_string = combined_string.lower()\n",
        "\n",
        "t= lower_case_string.count(\"t\")\n",
        "r= lower_case_string.count(\"r\")\n",
        "u= lower_case_string.count(\"u\")\n",
        "e= lower_case_string.count(\"e\")\n",
        "\n",
        "true=t + r + u + e\n",
        "l= lower_case_string.count(\"l\")\n",
        "o= lower_case_string.count(\"o\")\n",
        "v= lower_case_string.count(\"v\")\n",
        "e= lower_case_string.count(\"e\")\n",
        "\n",
        "love= l + o + v + e\n",
        "love_score=str(true) + str(love)\n",
        "\n",
        "int_love=int(str(true) + str(love))\n",
        "\n",
        "if int_love<10 or int_love>90:\n",
        "  print(f\"Your score is {int_love}, you go together like coke and mentos.\")\n",
        "elif int_love>40 and int_love<50:\n",
        "  print(f\"Your score is {int_love}, you are alright together.\")\n",
        "else:\n",
        "  print(f\"Your score is {int_love}.\")"
      ]
    }
  ]
}